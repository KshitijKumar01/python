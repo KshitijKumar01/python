{
 "cells": [
  {
   "cell_type": "code",
   "execution_count": 8,
   "metadata": {},
   "outputs": [],
   "source": [
    "import pandas as pd\n",
    "import numpy as np\n",
    "from sklearn.impute import SimpleImputer\n",
    "from sklearn.preprocessing import OneHotEncoder, OrdinalEncoder"
   ]
  },
  {
   "cell_type": "code",
   "execution_count": 7,
   "metadata": {},
   "outputs": [
    {
     "data": {
      "text/html": [
       "<div>\n",
       "<style scoped>\n",
       "    .dataframe tbody tr th:only-of-type {\n",
       "        vertical-align: middle;\n",
       "    }\n",
       "\n",
       "    .dataframe tbody tr th {\n",
       "        vertical-align: top;\n",
       "    }\n",
       "\n",
       "    .dataframe thead th {\n",
       "        text-align: right;\n",
       "    }\n",
       "</style>\n",
       "<table border=\"1\" class=\"dataframe\">\n",
       "  <thead>\n",
       "    <tr style=\"text-align: right;\">\n",
       "      <th></th>\n",
       "      <th>Unnamed: 0</th>\n",
       "      <th>age</th>\n",
       "      <th>gender</th>\n",
       "      <th>fever</th>\n",
       "      <th>cough</th>\n",
       "      <th>city</th>\n",
       "      <th>has_covid</th>\n",
       "    </tr>\n",
       "  </thead>\n",
       "  <tbody>\n",
       "    <tr>\n",
       "      <th>0</th>\n",
       "      <td>0</td>\n",
       "      <td>60</td>\n",
       "      <td>Male</td>\n",
       "      <td>103.0</td>\n",
       "      <td>Mild</td>\n",
       "      <td>Kolkata</td>\n",
       "      <td>No</td>\n",
       "    </tr>\n",
       "    <tr>\n",
       "      <th>1</th>\n",
       "      <td>1</td>\n",
       "      <td>27</td>\n",
       "      <td>Male</td>\n",
       "      <td>100.0</td>\n",
       "      <td>Mild</td>\n",
       "      <td>Delhi</td>\n",
       "      <td>Yes</td>\n",
       "    </tr>\n",
       "    <tr>\n",
       "      <th>2</th>\n",
       "      <td>2</td>\n",
       "      <td>42</td>\n",
       "      <td>Male</td>\n",
       "      <td>101.0</td>\n",
       "      <td>Mild</td>\n",
       "      <td>Delhi</td>\n",
       "      <td>No</td>\n",
       "    </tr>\n",
       "    <tr>\n",
       "      <th>3</th>\n",
       "      <td>3</td>\n",
       "      <td>31</td>\n",
       "      <td>Female</td>\n",
       "      <td>98.0</td>\n",
       "      <td>Mild</td>\n",
       "      <td>Kolkata</td>\n",
       "      <td>No</td>\n",
       "    </tr>\n",
       "    <tr>\n",
       "      <th>4</th>\n",
       "      <td>4</td>\n",
       "      <td>65</td>\n",
       "      <td>Female</td>\n",
       "      <td>101.0</td>\n",
       "      <td>Mild</td>\n",
       "      <td>Mumbai</td>\n",
       "      <td>No</td>\n",
       "    </tr>\n",
       "  </tbody>\n",
       "</table>\n",
       "</div>"
      ],
      "text/plain": [
       "   Unnamed: 0  age  gender  fever cough     city has_covid\n",
       "0           0   60    Male  103.0  Mild  Kolkata        No\n",
       "1           1   27    Male  100.0  Mild    Delhi       Yes\n",
       "2           2   42    Male  101.0  Mild    Delhi        No\n",
       "3           3   31  Female   98.0  Mild  Kolkata        No\n",
       "4           4   65  Female  101.0  Mild   Mumbai        No"
      ]
     },
     "execution_count": 7,
     "metadata": {},
     "output_type": "execute_result"
    }
   ],
   "source": [
    "data = pd.read_csv(\"covid_toy.csv\")\n",
    "data.head()"
   ]
  },
  {
   "cell_type": "code",
   "execution_count": 10,
   "metadata": {},
   "outputs": [
    {
     "data": {
      "text/plain": [
       "Mild      62\n",
       "Strong    38\n",
       "Name: cough, dtype: int64"
      ]
     },
     "execution_count": 10,
     "metadata": {},
     "output_type": "execute_result"
    }
   ],
   "source": [
    "data['cough'].value_counts()"
   ]
  },
  {
   "cell_type": "code",
   "execution_count": 36,
   "metadata": {},
   "outputs": [],
   "source": [
    "from sklearn.model_selection import train_test_split\n",
    "X_train, X_test, y_train, y_test = train_test_split(data.drop(columns=['has_covid']), data['has_covid'], test_size=0.2)\n"
   ]
  },
  {
   "attachments": {},
   "cell_type": "markdown",
   "metadata": {},
   "source": [
    "1. without column transformer"
   ]
  },
  {
   "cell_type": "code",
   "execution_count": 21,
   "metadata": {},
   "outputs": [
    {
     "data": {
      "text/plain": [
       "(80, 1)"
      ]
     },
     "execution_count": 21,
     "metadata": {},
     "output_type": "execute_result"
    }
   ],
   "source": [
    "si = SimpleImputer()\n",
    "# for training data\n",
    "X_train_fever = si.fit_transform(X_train[['fever']])\n",
    "\n",
    "# for testing data\n",
    "X_test_fever = si.transform(X_test[['fever']])\n",
    "\n",
    "X_train_fever.shape"
   ]
  },
  {
   "cell_type": "code",
   "execution_count": 23,
   "metadata": {},
   "outputs": [],
   "source": [
    "oe = OrdinalEncoder(categories=[['Mild', 'Strong']])\n",
    "X_train_cough = oe.fit_transform(X_train[['cough']])\n",
    "\n",
    "# same for the test data\n",
    "X_test_cough = oe.fit_transform(X_test[['cough']])"
   ]
  },
  {
   "cell_type": "code",
   "execution_count": 27,
   "metadata": {},
   "outputs": [],
   "source": [
    "ohe = OneHotEncoder(sparse=False, drop='first')\n",
    "\n",
    "X_train_gender_city = ohe.fit_transform(X_train[['gender', 'city']])\n",
    "\n",
    "#same for the test data\n",
    "X_test_gender_city = ohe.fit_transform(X_test[['gender', 'city']])\n"
   ]
  },
  {
   "cell_type": "code",
   "execution_count": 30,
   "metadata": {},
   "outputs": [],
   "source": [
    "#extracting age\n",
    "\n",
    "X_train_age = X_train.drop(columns=['gender','fever','cough','city']).values\n",
    "X_test_age = X_test.drop(columns=['gender','fever','cough','city']).values"
   ]
  },
  {
   "cell_type": "code",
   "execution_count": 31,
   "metadata": {},
   "outputs": [],
   "source": [
    "X_train_transform = np.concatenate((X_train_age, X_train_fever, X_train_gender_city, X_train_cough), axis=1)"
   ]
  },
  {
   "cell_type": "code",
   "execution_count": 32,
   "metadata": {},
   "outputs": [
    {
     "data": {
      "text/plain": [
       "array([[ 27.        ,  33.        , 102.        ,   0.        ,\n",
       "          1.        ,   0.        ,   0.        ,   1.        ],\n",
       "       [ 96.        ,  51.        , 101.        ,   0.        ,\n",
       "          0.        ,   1.        ,   0.        ,   1.        ],\n",
       "       [ 65.        ,  69.        , 102.        ,   0.        ,\n",
       "          0.        ,   0.        ,   0.        ,   0.        ],\n",
       "       [ 66.        ,  51.        , 104.        ,   1.        ,\n",
       "          0.        ,   1.        ,   0.        ,   0.        ],\n",
       "       [ 37.        ,  55.        , 100.        ,   1.        ,\n",
       "          0.        ,   1.        ,   0.        ,   0.        ],\n",
       "       [ 10.        ,  75.        , 100.73611111,   0.        ,\n",
       "          1.        ,   0.        ,   0.        ,   0.        ],\n",
       "       [  2.        ,  42.        , 101.        ,   1.        ,\n",
       "          1.        ,   0.        ,   0.        ,   0.        ],\n",
       "       [ 58.        ,  23.        ,  98.        ,   1.        ,\n",
       "          0.        ,   0.        ,   1.        ,   1.        ],\n",
       "       [ 20.        ,  12.        ,  98.        ,   1.        ,\n",
       "          0.        ,   0.        ,   0.        ,   1.        ],\n",
       "       [ 34.        ,  74.        , 102.        ,   1.        ,\n",
       "          0.        ,   0.        ,   1.        ,   0.        ],\n",
       "       [ 41.        ,  82.        , 100.73611111,   1.        ,\n",
       "          0.        ,   1.        ,   0.        ,   0.        ],\n",
       "       [ 33.        ,  26.        ,  98.        ,   0.        ,\n",
       "          0.        ,   1.        ,   0.        ,   0.        ],\n",
       "       [ 42.        ,  27.        , 100.        ,   1.        ,\n",
       "          1.        ,   0.        ,   0.        ,   0.        ],\n",
       "       [ 76.        ,  80.        , 100.        ,   1.        ,\n",
       "          0.        ,   0.        ,   0.        ,   0.        ],\n",
       "       [  9.        ,  64.        , 101.        ,   0.        ,\n",
       "          1.        ,   0.        ,   0.        ,   0.        ],\n",
       "       [ 84.        ,  69.        ,  98.        ,   0.        ,\n",
       "          0.        ,   0.        ,   1.        ,   1.        ],\n",
       "       [ 69.        ,  73.        , 103.        ,   0.        ,\n",
       "          1.        ,   0.        ,   0.        ,   0.        ],\n",
       "       [ 91.        ,  38.        , 100.73611111,   1.        ,\n",
       "          1.        ,   0.        ,   0.        ,   0.        ],\n",
       "       [  1.        ,  27.        , 100.        ,   1.        ,\n",
       "          1.        ,   0.        ,   0.        ,   0.        ],\n",
       "       [ 88.        ,   5.        , 100.        ,   0.        ,\n",
       "          0.        ,   1.        ,   0.        ,   0.        ],\n",
       "       [ 92.        ,  82.        , 102.        ,   0.        ,\n",
       "          0.        ,   1.        ,   0.        ,   1.        ],\n",
       "       [ 51.        ,  11.        , 100.        ,   0.        ,\n",
       "          0.        ,   1.        ,   0.        ,   1.        ],\n",
       "       [ 39.        ,  50.        , 103.        ,   0.        ,\n",
       "          0.        ,   1.        ,   0.        ,   0.        ],\n",
       "       [ 18.        ,  64.        ,  98.        ,   0.        ,\n",
       "          0.        ,   0.        ,   0.        ,   0.        ],\n",
       "       [  3.        ,  31.        ,  98.        ,   0.        ,\n",
       "          0.        ,   1.        ,   0.        ,   0.        ],\n",
       "       [ 12.        ,  25.        ,  99.        ,   0.        ,\n",
       "          0.        ,   1.        ,   0.        ,   1.        ],\n",
       "       [ 62.        ,  56.        , 104.        ,   0.        ,\n",
       "          0.        ,   0.        ,   0.        ,   1.        ],\n",
       "       [ 99.        ,  10.        ,  98.        ,   0.        ,\n",
       "          0.        ,   1.        ,   0.        ,   1.        ],\n",
       "       [ 54.        ,  60.        ,  99.        ,   0.        ,\n",
       "          0.        ,   0.        ,   1.        ,   0.        ],\n",
       "       [ 23.        ,  80.        ,  98.        ,   0.        ,\n",
       "          1.        ,   0.        ,   0.        ,   0.        ],\n",
       "       [ 77.        ,   8.        , 101.        ,   0.        ,\n",
       "          0.        ,   1.        ,   0.        ,   0.        ],\n",
       "       [ 22.        ,  71.        ,  98.        ,   0.        ,\n",
       "          0.        ,   1.        ,   0.        ,   1.        ],\n",
       "       [  8.        ,  19.        , 100.        ,   0.        ,\n",
       "          0.        ,   0.        ,   0.        ,   1.        ],\n",
       "       [  4.        ,  65.        , 101.        ,   0.        ,\n",
       "          0.        ,   0.        ,   1.        ,   0.        ],\n",
       "       [ 50.        ,  19.        , 101.        ,   1.        ,\n",
       "          1.        ,   0.        ,   0.        ,   0.        ],\n",
       "       [ 71.        ,  75.        , 104.        ,   0.        ,\n",
       "          1.        ,   0.        ,   0.        ,   1.        ],\n",
       "       [ 75.        ,   5.        , 102.        ,   1.        ,\n",
       "          0.        ,   1.        ,   0.        ,   0.        ],\n",
       "       [ 15.        ,  70.        , 103.        ,   1.        ,\n",
       "          0.        ,   1.        ,   0.        ,   1.        ],\n",
       "       [ 87.        ,  47.        , 101.        ,   1.        ,\n",
       "          0.        ,   0.        ,   0.        ,   1.        ],\n",
       "       [ 44.        ,  20.        , 102.        ,   1.        ,\n",
       "          1.        ,   0.        ,   0.        ,   1.        ],\n",
       "       [  0.        ,  60.        , 103.        ,   1.        ,\n",
       "          0.        ,   1.        ,   0.        ,   0.        ],\n",
       "       [ 68.        ,  54.        , 104.        ,   0.        ,\n",
       "          0.        ,   1.        ,   0.        ,   1.        ],\n",
       "       [ 95.        ,  12.        , 104.        ,   0.        ,\n",
       "          0.        ,   0.        ,   0.        ,   0.        ],\n",
       "       [ 86.        ,  25.        , 104.        ,   1.        ,\n",
       "          0.        ,   0.        ,   0.        ,   0.        ],\n",
       "       [ 56.        ,  71.        , 100.73611111,   1.        ,\n",
       "          0.        ,   1.        ,   0.        ,   1.        ],\n",
       "       [ 82.        ,  24.        ,  98.        ,   1.        ,\n",
       "          0.        ,   1.        ,   0.        ,   0.        ],\n",
       "       [ 29.        ,  34.        , 100.73611111,   0.        ,\n",
       "          0.        ,   0.        ,   1.        ,   1.        ],\n",
       "       [ 90.        ,  59.        ,  99.        ,   0.        ,\n",
       "          1.        ,   0.        ,   0.        ,   1.        ],\n",
       "       [ 21.        ,  73.        ,  98.        ,   1.        ,\n",
       "          0.        ,   0.        ,   0.        ,   0.        ],\n",
       "       [ 24.        ,  13.        , 100.        ,   0.        ,\n",
       "          0.        ,   1.        ,   0.        ,   1.        ],\n",
       "       [ 89.        ,  46.        , 103.        ,   1.        ,\n",
       "          0.        ,   0.        ,   0.        ,   1.        ],\n",
       "       [ 93.        ,  27.        , 100.        ,   1.        ,\n",
       "          0.        ,   1.        ,   0.        ,   0.        ],\n",
       "       [ 46.        ,  19.        , 101.        ,   0.        ,\n",
       "          0.        ,   0.        ,   1.        ,   0.        ],\n",
       "       [ 48.        ,  66.        ,  99.        ,   1.        ,\n",
       "          0.        ,   0.        ,   0.        ,   1.        ],\n",
       "       [ 31.        ,  83.        , 103.        ,   1.        ,\n",
       "          0.        ,   1.        ,   0.        ,   0.        ],\n",
       "       [ 94.        ,  79.        , 100.73611111,   1.        ,\n",
       "          0.        ,   1.        ,   0.        ,   1.        ],\n",
       "       [ 36.        ,  38.        , 101.        ,   0.        ,\n",
       "          0.        ,   0.        ,   0.        ,   0.        ],\n",
       "       [ 73.        ,  34.        ,  98.        ,   1.        ,\n",
       "          0.        ,   1.        ,   0.        ,   1.        ],\n",
       "       [ 83.        ,  17.        , 104.        ,   0.        ,\n",
       "          0.        ,   1.        ,   0.        ,   0.        ],\n",
       "       [ 35.        ,  82.        , 102.        ,   0.        ,\n",
       "          0.        ,   0.        ,   0.        ,   1.        ],\n",
       "       [ 52.        ,  47.        , 100.        ,   0.        ,\n",
       "          0.        ,   0.        ,   0.        ,   1.        ],\n",
       "       [ 61.        ,  81.        ,  98.        ,   0.        ,\n",
       "          0.        ,   0.        ,   1.        ,   1.        ],\n",
       "       [ 19.        ,  42.        , 100.73611111,   0.        ,\n",
       "          0.        ,   0.        ,   0.        ,   1.        ],\n",
       "       [ 78.        ,  11.        , 100.        ,   1.        ,\n",
       "          0.        ,   0.        ,   0.        ,   0.        ],\n",
       "       [ 72.        ,  83.        , 101.        ,   0.        ,\n",
       "          0.        ,   1.        ,   0.        ,   0.        ],\n",
       "       [ 53.        ,  83.        ,  98.        ,   1.        ,\n",
       "          1.        ,   0.        ,   0.        ,   0.        ],\n",
       "       [  6.        ,  14.        , 101.        ,   1.        ,\n",
       "          0.        ,   0.        ,   0.        ,   1.        ],\n",
       "       [ 55.        ,  81.        , 101.        ,   0.        ,\n",
       "          0.        ,   0.        ,   1.        ,   0.        ],\n",
       "       [ 80.        ,  14.        ,  99.        ,   0.        ,\n",
       "          0.        ,   0.        ,   1.        ,   0.        ],\n",
       "       [ 49.        ,  44.        , 104.        ,   1.        ,\n",
       "          0.        ,   0.        ,   1.        ,   0.        ],\n",
       "       [ 70.        ,  68.        , 101.        ,   0.        ,\n",
       "          1.        ,   0.        ,   0.        ,   1.        ],\n",
       "       [ 59.        ,   6.        , 104.        ,   0.        ,\n",
       "          0.        ,   1.        ,   0.        ,   0.        ],\n",
       "       [ 64.        ,  42.        , 104.        ,   1.        ,\n",
       "          0.        ,   0.        ,   1.        ,   0.        ],\n",
       "       [ 60.        ,  24.        , 102.        ,   0.        ,\n",
       "          0.        ,   0.        ,   0.        ,   1.        ],\n",
       "       [ 81.        ,  65.        ,  99.        ,   1.        ,\n",
       "          1.        ,   0.        ,   0.        ,   0.        ],\n",
       "       [ 11.        ,  65.        ,  98.        ,   0.        ,\n",
       "          0.        ,   0.        ,   1.        ,   0.        ],\n",
       "       [ 45.        ,  72.        ,  99.        ,   1.        ,\n",
       "          0.        ,   0.        ,   0.        ,   0.        ],\n",
       "       [ 40.        ,  49.        , 102.        ,   0.        ,\n",
       "          1.        ,   0.        ,   0.        ,   0.        ],\n",
       "       [ 32.        ,  34.        , 101.        ,   0.        ,\n",
       "          1.        ,   0.        ,   0.        ,   1.        ],\n",
       "       [ 25.        ,  23.        , 100.73611111,   1.        ,\n",
       "          0.        ,   0.        ,   1.        ,   0.        ]])"
      ]
     },
     "execution_count": 32,
     "metadata": {},
     "output_type": "execute_result"
    }
   ],
   "source": [
    "X_train_transform"
   ]
  },
  {
   "attachments": {},
   "cell_type": "markdown",
   "metadata": {},
   "source": [
    "2 transforming all the columns using column transformer"
   ]
  },
  {
   "cell_type": "code",
   "execution_count": 33,
   "metadata": {},
   "outputs": [],
   "source": [
    "from sklearn.compose import ColumnTransformer"
   ]
  },
  {
   "cell_type": "code",
   "execution_count": 39,
   "metadata": {},
   "outputs": [],
   "source": [
    "transformer = ColumnTransformer(transformers=[\n",
    "    ('tnf1', SimpleImputer(), ['fever']),\n",
    "    ('tnf2', OrdinalEncoder(categories=[['Mild', 'Strong']]), ['cough']),\n",
    "    ('tnf3', OneHotEncoder(sparse=False, drop='first'), ['gender', 'city'])\n",
    "], remainder='passthrough')"
   ]
  },
  {
   "cell_type": "code",
   "execution_count": 46,
   "metadata": {},
   "outputs": [
    {
     "data": {
      "text/plain": [
       "array([[101.,   0.,   0.,   1.,   0.,   0.,   9.,  64.],\n",
       "       [104.,   0.,   1.,   0.,   0.,   1.,  49.,  44.],\n",
       "       [ 99.,   1.,   0.,   0.,   0.,   0.,  57.,  49.],\n",
       "       [102.,   1.,   0.,   0.,   0.,   0.,  60.,  24.],\n",
       "       [103.,   1.,   1.,   0.,   0.,   0.,  89.,  46.],\n",
       "       [100.,   0.,   1.,   0.,   0.,   0.,  78.,  11.],\n",
       "       [103.,   0.,   1.,   0.,   1.,   0.,   0.,  60.],\n",
       "       [101.,   0.,   0.,   0.,   0.,   1.,  46.,  19.],\n",
       "       [ 98.,   0.,   0.,   1.,   0.,   0.,  23.,  80.],\n",
       "       [101.,   1.,   1.,   0.,   1.,   0.,  56.,  71.],\n",
       "       [103.,   0.,   0.,   0.,   1.,   0.,  39.,  50.],\n",
       "       [101.,   0.,   0.,   0.,   0.,   1.,   4.,  65.],\n",
       "       [101.,   1.,   0.,   0.,   0.,   1.,  29.,  34.],\n",
       "       [102.,   1.,   1.,   1.,   0.,   0.,  44.,  20.],\n",
       "       [ 98.,   1.,   1.,   0.,   0.,   0.,  20.,  12.],\n",
       "       [101.,   0.,   0.,   0.,   0.,   0.,  97.,  20.],\n",
       "       [100.,   0.,   1.,   0.,   0.,   0.,  76.,  80.],\n",
       "       [ 99.,   0.,   1.,   1.,   0.,   0.,  81.,  65.],\n",
       "       [101.,   0.,   0.,   1.,   0.,   0.,  10.,  75.],\n",
       "       [104.,   0.,   1.,   0.,   0.,   1.,  64.,  42.],\n",
       "       [ 98.,   0.,   1.,   0.,   1.,   0.,  82.,  24.],\n",
       "       [101.,   1.,   0.,   0.,   0.,   0.,  19.,  42.],\n",
       "       [ 98.,   1.,   0.,   0.,   0.,   1.,  61.,  81.],\n",
       "       [ 98.,   0.,   0.,   0.,   0.,   0.,  18.,  64.],\n",
       "       [101.,   1.,   1.,   0.,   0.,   0.,  87.,  47.],\n",
       "       [103.,   0.,   1.,   0.,   1.,   0.,  31.,  83.],\n",
       "       [104.,   0.,   1.,   0.,   0.,   0.,  86.,  25.],\n",
       "       [102.,   1.,   0.,   1.,   0.,   0.,  27.,  33.],\n",
       "       [100.,   1.,   0.,   0.,   0.,   0.,   8.,  19.],\n",
       "       [103.,   0.,   0.,   0.,   1.,   0.,  79.,  48.],\n",
       "       [102.,   0.,   1.,   0.,   1.,   0.,  75.,   5.],\n",
       "       [102.,   0.,   0.,   0.,   0.,   0.,  65.,  69.],\n",
       "       [ 98.,   0.,   1.,   0.,   0.,   0.,  21.,  73.],\n",
       "       [ 98.,   1.,   1.,   0.,   0.,   1.,  58.,  23.],\n",
       "       [101.,   0.,   1.,   0.,   1.,   0.,  41.,  82.],\n",
       "       [104.,   1.,   0.,   0.,   0.,   0.,  62.,  56.],\n",
       "       [103.,   0.,   0.,   0.,   1.,   0.,  16.,  69.],\n",
       "       [ 98.,   1.,   1.,   0.,   1.,   0.,  73.,  34.],\n",
       "       [101.,   0.,   0.,   0.,   1.,   0.,  72.,  83.],\n",
       "       [104.,   0.,   1.,   0.,   1.,   0.,  66.,  51.],\n",
       "       [101.,   0.,   0.,   0.,   0.,   1.,  55.,  81.],\n",
       "       [101.,   0.,   0.,   0.,   0.,   0.,  36.,  38.],\n",
       "       [100.,   0.,   0.,   0.,   1.,   0.,  26.,  19.],\n",
       "       [104.,   1.,   0.,   0.,   1.,   0.,  68.,  54.],\n",
       "       [102.,   0.,   1.,   0.,   0.,   0.,  13.,  64.],\n",
       "       [102.,   1.,   0.,   0.,   0.,   0.,  35.,  82.],\n",
       "       [104.,   1.,   0.,   1.,   0.,   0.,  74.,  34.],\n",
       "       [ 98.,   0.,   0.,   0.,   1.,   0.,  33.,  26.],\n",
       "       [104.,   0.,   0.,   0.,   1.,   0.,  59.,   6.],\n",
       "       [ 98.,   1.,   0.,   0.,   1.,   0.,  99.,  10.],\n",
       "       [104.,   1.,   0.,   1.,   0.,   0.,  71.,  75.],\n",
       "       [ 98.,   1.,   0.,   0.,   0.,   1.,  98.,   5.],\n",
       "       [101.,   0.,   1.,   1.,   0.,   0.,   2.,  42.],\n",
       "       [ 98.,   0.,   0.,   0.,   0.,   1.,  11.,  65.],\n",
       "       [104.,   0.,   1.,   0.,   0.,   0.,  14.,  51.],\n",
       "       [100.,   0.,   1.,   0.,   0.,   0.,  63.,  10.],\n",
       "       [100.,   0.,   1.,   0.,   1.,   0.,  93.,  27.],\n",
       "       [ 99.,   0.,   0.,   0.,   0.,   1.,  54.,  60.],\n",
       "       [100.,   1.,   0.,   0.,   1.,   0.,  51.,  11.],\n",
       "       [101.,   0.,   1.,   0.,   0.,   1.,  25.,  23.],\n",
       "       [101.,   1.,   1.,   0.,   1.,   0.,  94.,  79.],\n",
       "       [103.,   1.,   1.,   0.,   1.,   0.,  15.,  70.],\n",
       "       [103.,   0.,   0.,   1.,   0.,   0.,  69.,  73.],\n",
       "       [ 98.,   1.,   0.,   0.,   1.,   0.,  22.,  71.],\n",
       "       [ 99.,   1.,   0.,   1.,   0.,   0.,  90.,  59.],\n",
       "       [104.,   0.,   0.,   0.,   1.,   0.,  83.,  17.],\n",
       "       [102.,   0.,   0.,   1.,   0.,   0.,  40.,  49.],\n",
       "       [100.,   0.,   0.,   0.,   1.,   0.,  88.,   5.],\n",
       "       [ 99.,   0.,   1.,   0.,   0.,   0.,  45.,  72.],\n",
       "       [101.,   0.,   0.,   1.,   0.,   0.,  38.,  49.],\n",
       "       [101.,   0.,   0.,   0.,   1.,   0.,  77.,   8.],\n",
       "       [104.,   0.,   1.,   0.,   1.,   0.,  28.,  16.],\n",
       "       [ 99.,   0.,   0.,   0.,   0.,   1.,  80.,  14.],\n",
       "       [104.,   0.,   0.,   0.,   0.,   0.,  95.,  12.],\n",
       "       [100.,   1.,   0.,   0.,   0.,   0.,  52.,  47.],\n",
       "       [101.,   0.,   1.,   1.,   0.,   0.,  30.,  15.],\n",
       "       [101.,   0.,   0.,   0.,   0.,   0.,   5.,  84.],\n",
       "       [101.,   1.,   0.,   1.,   0.,   0.,  32.,  34.],\n",
       "       [100.,   0.,   1.,   0.,   1.,   0.,  37.,  55.],\n",
       "       [ 99.,   0.,   0.,   0.,   0.,   0.,  43.,  22.]])"
      ]
     },
     "execution_count": 46,
     "metadata": {},
     "output_type": "execute_result"
    }
   ],
   "source": [
    "transformer.fit_transform(X_train)\n"
   ]
  },
  {
   "cell_type": "code",
   "execution_count": null,
   "metadata": {},
   "outputs": [],
   "source": []
  }
 ],
 "metadata": {
  "kernelspec": {
   "display_name": "Python 3",
   "language": "python",
   "name": "python3"
  },
  "language_info": {
   "codemirror_mode": {
    "name": "ipython",
    "version": 3
   },
   "file_extension": ".py",
   "mimetype": "text/x-python",
   "name": "python",
   "nbconvert_exporter": "python",
   "pygments_lexer": "ipython3",
   "version": "3.9.4"
  },
  "orig_nbformat": 4
 },
 "nbformat": 4,
 "nbformat_minor": 2
}
